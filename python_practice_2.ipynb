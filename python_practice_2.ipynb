{
  "nbformat": 4,
  "nbformat_minor": 0,
  "metadata": {
    "colab": {
      "provenance": []
    },
    "kernelspec": {
      "name": "python3",
      "display_name": "Python 3"
    },
    "language_info": {
      "name": "python"
    }
  },
  "cells": [
    {
      "cell_type": "markdown",
      "source": [
        "# I. Змінні та памʼять."
      ],
      "metadata": {
        "id": "p9wwt0LZzNvn"
      }
    },
    {
      "cell_type": "markdown",
      "source": [
        "1. Створити змінні, що посилаються на два цілих числа, що однакові за значенням, де значення належить проміжку від -5 до 256. Перевірте, чи будуть ці змінні рівні тільки за значенням або ж ще будуть посилатися на один і той самий обʼєкт в памʼяті? Наведіть код та дайте текстову відповідь нижче."
      ],
      "metadata": {
        "id": "HTJrrm95xSV9"
      }
    },
    {
      "cell_type": "code",
      "execution_count": null,
      "metadata": {
        "id": "TATni2vzayjG",
        "colab": {
          "base_uri": "https://localhost:8080/"
        },
        "outputId": "3ebd9850-73c8-4a61-878e-993cf7f64d4a"
      },
      "outputs": [
        {
          "output_type": "stream",
          "name": "stdout",
          "text": [
            "10751912\n",
            "10751912\n"
          ]
        }
      ],
      "source": [
        "a=34\n",
        "b=34\n",
        "print(id(a))\n",
        "print(id(b))"
      ]
    },
    {
      "cell_type": "markdown",
      "source": [
        "Числа від -5 до 256 спеціально зарезервовані в пам'яті і якщо створюються змінні в цьому проміжку, то вони посилаються на одне й те саме місце в пам'яті"
      ],
      "metadata": {
        "id": "zfRG_o3WbRdg"
      }
    },
    {
      "cell_type": "markdown",
      "source": [
        "2. За допомогою якої функції можна перевірити належність змінної до вказаного типу даних (напр. чи змінна True посилається на значення булевого та цілочисленого типу)?"
      ],
      "metadata": {
        "id": "ISORzt6M3vAt"
      }
    },
    {
      "cell_type": "code",
      "source": [
        "new_instance= True\n",
        "print(isinstance(new_instance, int), isinstance(new_instance, bool))"
      ],
      "metadata": {
        "id": "9vL9CFaMbfyo",
        "colab": {
          "base_uri": "https://localhost:8080/"
        },
        "outputId": "8191a65c-836d-4479-f11f-70cd2d108444"
      },
      "execution_count": null,
      "outputs": [
        {
          "output_type": "stream",
          "name": "stdout",
          "text": [
            "True True\n"
          ]
        }
      ]
    },
    {
      "cell_type": "markdown",
      "source": [
        "# II. Цілі числа та числа з рухомою комою"
      ],
      "metadata": {
        "id": "tRxugKAxwYLw"
      }
    },
    {
      "cell_type": "markdown",
      "source": [
        "3. Створити дві змінні, що посилаються на будь-які ціле число та число з рухомою комою та продемонструвати такі арифметичні операції: додавання, віднімання, ділення, множення, ділення без залишку, ділення по модулю, приведення до ступеню. Всі результати операцій вивести на екран."
      ],
      "metadata": {
        "id": "NLHkgd5Gybc8"
      }
    },
    {
      "cell_type": "code",
      "source": [
        "a_float=12.0\n",
        "b_float=-2.5\n",
        "\n",
        "print(\n",
        "    \"Addition:\", a_float+b_float,\n",
        "    \"\\nSubstraction: \", a_float-b_float,\n",
        "     \"\\nMultiplication: \", a_float*b_float,\n",
        "     \"\\nDivision without remain: \", a_float//b_float,\n",
        "     \"\\nMod : \", a_float % b_float,\n",
        "    \"\\nExponentiation: \", a_float**b_float,\n",
        ")"
      ],
      "metadata": {
        "id": "nb8u_3pjb2cA",
        "colab": {
          "base_uri": "https://localhost:8080/"
        },
        "outputId": "12561979-b284-40ab-d1aa-4ff903d31607"
      },
      "execution_count": null,
      "outputs": [
        {
          "output_type": "stream",
          "name": "stdout",
          "text": [
            "Addition: 9.5 \n",
            "Substraction:  14.5 \n",
            "Multiplication:  -30.0 \n",
            "Division without remain:  -5.0 \n",
            "Mod :  -0.5 \n",
            "Exponentiation:  0.0020046884346862004\n"
          ]
        }
      ]
    },
    {
      "cell_type": "markdown",
      "source": [
        "4. Використовуючи змінні з вправи 3, продемонструйте механізм явного перетворення типів, де числа з рухомою комою перетворюються на цілі числа. Також визначте змінну, що посилається на значення булевого типу і спробуйте явно привести її до цілого числа."
      ],
      "metadata": {
        "id": "1kBClKgPzZnC"
      }
    },
    {
      "cell_type": "code",
      "source": [
        "с_bool= True\n",
        "print( int(a_float), \" \", int(b_float), \" \", int(с_bool))"
      ],
      "metadata": {
        "id": "TbqJbkeUcKsD",
        "colab": {
          "base_uri": "https://localhost:8080/"
        },
        "outputId": "37830a0f-2661-4eca-d447-9dc44010ac05"
      },
      "execution_count": null,
      "outputs": [
        {
          "output_type": "stream",
          "name": "stdout",
          "text": [
            "12   -2   1\n"
          ]
        }
      ]
    },
    {
      "cell_type": "markdown",
      "source": [
        "# IІІ. Рядки (String)."
      ],
      "metadata": {
        "id": "EVJ7AflwxrZi"
      }
    },
    {
      "cell_type": "markdown",
      "source": [
        "**5**. Створити пустий рядок двома різними способами."
      ],
      "metadata": {
        "id": "_s5ECzz9zE61"
      }
    },
    {
      "cell_type": "code",
      "source": [
        "str1 = \"\"\n",
        "str2 = str()"
      ],
      "metadata": {
        "id": "fkZJHu9Scvc-"
      },
      "execution_count": null,
      "outputs": []
    },
    {
      "cell_type": "markdown",
      "source": [
        "6. Створити рядок з апострофом. Зробити його сирим. Вивести обидва рядка на екран."
      ],
      "metadata": {
        "id": "4Bdn9J3MzLf_"
      }
    },
    {
      "cell_type": "code",
      "source": [
        "str_with_apostrophe= 'It\\'s a beautiful day!'\n",
        "str_with_apostrophe_raw= r'It\\'s a beautiful day!'\n",
        "print(str_with_apostrophe+\"; \"+ str_with_apostrophe_raw)"
      ],
      "metadata": {
        "id": "ivji_hsmc0GH",
        "colab": {
          "base_uri": "https://localhost:8080/"
        },
        "outputId": "af205948-5ab5-4c2c-d879-fc440e1c0e7c"
      },
      "execution_count": null,
      "outputs": [
        {
          "output_type": "stream",
          "name": "stdout",
          "text": [
            "It's a beautiful day!; It\\'s a beautiful day!\n"
          ]
        }
      ]
    },
    {
      "cell_type": "markdown",
      "source": [
        "7. Створити змінну, що буде посилатися на Ваше прізвище латинкою. Створити форматований рядок, який буде мати вигляд \"My surname is ______\", де на місці нижніх підкреслень буде Ваше прізвище зі змінної."
      ],
      "metadata": {
        "id": "bg_d8wM4z8dS"
      }
    },
    {
      "cell_type": "code",
      "source": [
        "str_my_surname= \"Semeniuk\"\n",
        "str_my_format_string= f\"My surname is {str_my_surname}\"\n",
        "print(str_my_format_string)"
      ],
      "metadata": {
        "id": "kuxFgpWndACq",
        "colab": {
          "base_uri": "https://localhost:8080/"
        },
        "outputId": "a54186de-a46e-4af1-9b73-21c21463443a"
      },
      "execution_count": null,
      "outputs": [
        {
          "output_type": "stream",
          "name": "stdout",
          "text": [
            "My surname is Semeniuk\n"
          ]
        }
      ]
    },
    {
      "cell_type": "markdown",
      "source": [
        "8. Маючи рядок \"My dog is crazy.\" перетворити його на список [\"my\", \"dog\", \"is\", \"crazy\"]"
      ],
      "metadata": {
        "id": "1Nc6RqvQ0hxU"
      }
    },
    {
      "cell_type": "code",
      "source": [
        "\n",
        "splitted_string= \"My dog is crazy.\".lower().replace(\".\", \"\").split()\n",
        "print(splitted_string)"
      ],
      "metadata": {
        "id": "w1Ya4RqedUhw",
        "colab": {
          "base_uri": "https://localhost:8080/"
        },
        "outputId": "f484d697-7305-4d5f-fdce-4a5624172924"
      },
      "execution_count": null,
      "outputs": [
        {
          "output_type": "stream",
          "name": "stdout",
          "text": [
            "['my', 'dog', 'is', 'crazy']\n"
          ]
        }
      ]
    },
    {
      "cell_type": "markdown",
      "source": [
        "# IV. Робота зі списками."
      ],
      "metadata": {
        "id": "GYVqN9uP1D4n"
      }
    },
    {
      "cell_type": "markdown",
      "source": [
        "9. Створити список двома різними за синтаксисом способами. За допомогою вбудованої функції обчисліть довжину одного з них."
      ],
      "metadata": {
        "id": "7-DeDunw2sO-"
      }
    },
    {
      "cell_type": "code",
      "source": [
        "list_1= [1,3,5,6]\n",
        "list_2= list(\"Hello world\")\n",
        "print(list_1, list_2)\n",
        "print(len(list_2))"
      ],
      "metadata": {
        "id": "zxg06Uuxdyoh",
        "colab": {
          "base_uri": "https://localhost:8080/"
        },
        "outputId": "5d090eee-7f68-4d22-ff39-ceb1399262a9"
      },
      "execution_count": null,
      "outputs": [
        {
          "output_type": "stream",
          "name": "stdout",
          "text": [
            "[1, 3, 5, 6] ['H', 'e', 'l', 'l', 'o', ' ', 'w', 'o', 'r', 'l', 'd']\n",
            "11\n"
          ]
        }
      ]
    },
    {
      "cell_type": "markdown",
      "source": [
        "*10*. Створіть два списка та за допомогою спеціального методу додайте другий з них в якості останнього елемента першого."
      ],
      "metadata": {
        "id": "8vmGUTjL22gI"
      }
    },
    {
      "cell_type": "code",
      "source": [
        "list_one=[1,2,3,4]\n",
        "list_two=[6,7,8,9,0]\n",
        "list_one.append(list_two)\n",
        "list_one"
      ],
      "metadata": {
        "id": "uHtjWYw7d7hm",
        "colab": {
          "base_uri": "https://localhost:8080/"
        },
        "outputId": "ec20f970-3974-44ee-98a3-bc55a6b14365"
      },
      "execution_count": null,
      "outputs": [
        {
          "output_type": "execute_result",
          "data": {
            "text/plain": [
              "[1, 2, 3, 4, [6, 7, 8, 9, 0]]"
            ]
          },
          "metadata": {},
          "execution_count": 3
        }
      ]
    },
    {
      "cell_type": "markdown",
      "source": [
        "11. Створіть список, де елементами цього списку також є списки. Отримай перший елемент з останнього рядка та виведи значення на екран."
      ],
      "metadata": {
        "id": "JC3BkD-67_--"
      }
    },
    {
      "cell_type": "code",
      "source": [
        "list_of_lists=[[1,2,3,4,5,6],['a','b','c','d','e'],[1000,'-7']]\n",
        "list_of_lists[-1][0]"
      ],
      "metadata": {
        "id": "Kz2jZHsGeLlz",
        "colab": {
          "base_uri": "https://localhost:8080/"
        },
        "outputId": "577ee97b-5201-4915-8c17-ad15cc492c16"
      },
      "execution_count": null,
      "outputs": [
        {
          "output_type": "execute_result",
          "data": {
            "text/plain": [
              "1000"
            ]
          },
          "metadata": {},
          "execution_count": 4
        }
      ]
    },
    {
      "cell_type": "markdown",
      "source": [
        "12. Створіть список з десяти елементів різного типу. Отримайте всі елементи, окрім двох перших та двох останніх та збережіть їх в новій змінній."
      ],
      "metadata": {
        "id": "JA47PKTv8zFK"
      }
    },
    {
      "cell_type": "code",
      "source": [
        "list_diffrent_values=[1,True, 'a', \"One string\", 3955.23, [100,101,102], 555, \"other\", 'w', False]\n",
        "list_diffrent_values[3:-2]"
      ],
      "metadata": {
        "id": "_rHdUR-ueP4-",
        "colab": {
          "base_uri": "https://localhost:8080/"
        },
        "outputId": "955c85db-6349-4dce-fcb8-50649c4cd70f"
      },
      "execution_count": null,
      "outputs": [
        {
          "output_type": "execute_result",
          "data": {
            "text/plain": [
              "['One string', 3955.23, [100, 101, 102], 555, 'other']"
            ]
          },
          "metadata": {},
          "execution_count": 5
        }
      ]
    },
    {
      "cell_type": "markdown",
      "source": [
        "# V. Робота з кортежами."
      ],
      "metadata": {
        "id": "pCjR1dJb1Qbi"
      }
    },
    {
      "cell_type": "markdown",
      "source": [
        "14. Створити кортеж з один елементом."
      ],
      "metadata": {
        "id": "fAZCxAX06R_k"
      }
    },
    {
      "cell_type": "code",
      "source": [
        "one_tuple=('one')\n",
        "one_tuple"
      ],
      "metadata": {
        "id": "H7d82WkQev3e",
        "colab": {
          "base_uri": "https://localhost:8080/",
          "height": 36
        },
        "outputId": "1cb468b7-c091-447b-c33f-2b561180222c"
      },
      "execution_count": null,
      "outputs": [
        {
          "output_type": "execute_result",
          "data": {
            "text/plain": [
              "'one'"
            ],
            "application/vnd.google.colaboratory.intrinsic+json": {
              "type": "string"
            }
          },
          "metadata": {},
          "execution_count": 6
        }
      ]
    },
    {
      "cell_type": "markdown",
      "source": [
        "15. Порівняйте список та кортеж. Назвіть схожості та відмінності, випадки використання."
      ],
      "metadata": {
        "id": "8LCtYcmI6w1M"
      }
    },
    {
      "cell_type": "markdown",
      "source": [
        "### Схожості:\n",
        "1. Можуть містити багато елементів різних типів  \n",
        "2. Індексовані  \n",
        "\n",
        "### Відмінності:\n",
        "1. Список змінюваний (*mutable*), а кортеж незмінний (*immutable*)  \n",
        "\n",
        "### Приклади використання:\n",
        "#### Списки:\n",
        "1. Сортування та обробка даних  \n",
        "2. Список товарів у кошику  \n",
        "\n",
        "#### Кортежі:\n",
        "1. Дні тижня  \n",
        "2. Повернення кількох значень функції"
      ],
      "metadata": {
        "id": "fUsN1Hnue0C6"
      }
    },
    {
      "cell_type": "markdown",
      "source": [
        "16. Створіть кортеж з 11ти елементів чисел з рухомою комою та отримайте кожен парний за індексом елемент в зворотньому порядку. Наприклад, маючи (1.2, 2.3, 3.3, 4.3, 5.3, 6.3, 7.3, 8.3, 9.3, 0.3), отримати (0.3, 8.3, 6.3, 4.3, 2.3). Результат збережіть в нову змінну та виведіть на екран."
      ],
      "metadata": {
        "id": "m0xrwFijAmDD"
      }
    },
    {
      "cell_type": "code",
      "source": [
        "eleven_tuple= (1.1, 2.2, 3.3, 4.4, 5.5, 6.6, 7.7, 8.8, 9.9, 0.0, 10.1)\n",
        "\n",
        "reversed_even_index_tuple=eleven_tuple[-1::-2]\n",
        "\n",
        "reversed_even_index_tuple"
      ],
      "metadata": {
        "id": "p-5DAH6XfAGA",
        "colab": {
          "base_uri": "https://localhost:8080/"
        },
        "outputId": "1846fc45-11e4-495e-924f-fde3222fbb8a"
      },
      "execution_count": null,
      "outputs": [
        {
          "output_type": "execute_result",
          "data": {
            "text/plain": [
              "(10.1, 9.9, 7.7, 5.5, 3.3, 1.1)"
            ]
          },
          "metadata": {},
          "execution_count": 8
        }
      ]
    },
    {
      "cell_type": "markdown",
      "source": [
        "# VI. Множини (Set)."
      ],
      "metadata": {
        "id": "rW_I9dt3x6cW"
      }
    },
    {
      "cell_type": "markdown",
      "source": [
        "17. Створити множину без елементів. Після цого за допомогою методу додайте кілька різних елементів до множини. Чи множини є змінним типом даних?"
      ],
      "metadata": {
        "id": "zNjRLHLw1Bgg"
      }
    },
    {
      "cell_type": "code",
      "source": [
        "empty_set=set()\n",
        "print(empty_set)\n",
        "empty_set.add(\"a\")\n",
        "empty_set.add(1)\n",
        "empty_set.add(False)\n",
        "empty_set.add(123.123)\n",
        "print(empty_set)"
      ],
      "metadata": {
        "id": "KOv7zc2Kfo4N",
        "colab": {
          "base_uri": "https://localhost:8080/"
        },
        "outputId": "1a199153-1051-48b1-a3f6-5af4f55c389c"
      },
      "execution_count": null,
      "outputs": [
        {
          "output_type": "stream",
          "name": "stdout",
          "text": [
            "set()\n",
            "{False, 1, 123.123, 'a'}\n"
          ]
        }
      ]
    },
    {
      "cell_type": "markdown",
      "source": [
        "Множини є змінним типом даних. Якби множина була immutable, то не існувало б методів для додавання нових елементів"
      ],
      "metadata": {
        "id": "vxS6dVYiftZQ"
      }
    },
    {
      "cell_type": "markdown",
      "source": [
        "18. Створити множину, маючи список my_list = [1, 1, 2, 67, 67, 8, 9]. Пояснити, чому \"зникли\" деякі елементи."
      ],
      "metadata": {
        "id": "gHpT0Zw_1HEF"
      }
    },
    {
      "cell_type": "code",
      "source": [
        "set_from_list= set( [1, 1, 2, 67, 67, 8, 9])\n",
        "set_from_list"
      ],
      "metadata": {
        "id": "qCN4uvJ_fxmu",
        "colab": {
          "base_uri": "https://localhost:8080/"
        },
        "outputId": "f7f6edd7-ed94-4a7d-c2aa-a468884b5da9"
      },
      "execution_count": null,
      "outputs": [
        {
          "output_type": "execute_result",
          "data": {
            "text/plain": [
              "{1, 2, 8, 9, 67}"
            ]
          },
          "metadata": {},
          "execution_count": 10
        }
      ]
    },
    {
      "cell_type": "markdown",
      "source": [
        "Множина- це структура, яка не місить дублів. При додаванні одного й того є елементу в множину кількість елементів у множині не зміниться"
      ],
      "metadata": {
        "id": "tFNc1e20fyny"
      }
    },
    {
      "cell_type": "markdown",
      "source": [
        "19. Створіть дві множини. Продемонстуйте над ними операції: обʼєднання, різниці, пересічі та симетричної різниці. Використовуйте методи, що не змінюють множини, а створюють нові."
      ],
      "metadata": {
        "id": "SRMkGizS1UwY"
      }
    },
    {
      "cell_type": "code",
      "source": [
        "set_one = {1, 2, 3, 4, 5}\n",
        "set_two = {2,1,0,-1,-2}\n",
        "\n",
        "set_union= set_one.union(set_two)\n",
        "print(set_union)\n",
        "\n",
        "set_difference= set_one.difference(set_two)\n",
        "print(set_difference)\n",
        "\n",
        "set_intesection= set_one.intersection(set_two)\n",
        "print(set_intesection)\n",
        "\n",
        "set_symmetric_difference= set_one.symmetric_difference(set_two)\n",
        "print(set_symmetric_difference)"
      ],
      "metadata": {
        "id": "h0T-VuDnf3Ri",
        "colab": {
          "base_uri": "https://localhost:8080/"
        },
        "outputId": "481b4f49-c145-49c5-8dfc-7000ca240a32"
      },
      "execution_count": null,
      "outputs": [
        {
          "output_type": "stream",
          "name": "stdout",
          "text": [
            "{0, 1, 2, 3, 4, 5, -1, -2}\n",
            "{3, 4, 5}\n",
            "{1, 2}\n",
            "{0, 3, 4, 5, -2, -1}\n"
          ]
        }
      ]
    },
    {
      "cell_type": "markdown",
      "source": [
        "# VII. Словники (Dictionary)."
      ],
      "metadata": {
        "id": "kWc8gkzTx7Ea"
      }
    },
    {
      "cell_type": "markdown",
      "source": [
        "20. Створіть пустий словник. До нього додайте чотири пари елементів такі, щоб їхні ключі були різних типів. Чи може список бути ключем? Чому?"
      ],
      "metadata": {
        "id": "i5FLwj-B2ybQ"
      }
    },
    {
      "cell_type": "code",
      "source": [
        "my_dict={}\n",
        "my_dict[1]=\"integer\"\n",
        "my_dict[3.14]=\"float\"\n",
        "my_dict['a']=\"string\"\n",
        "my_dict[(1,2,3,4)]=\"tuple\"\n",
        "my_dict"
      ],
      "metadata": {
        "id": "hxgv3BzrgLAV",
        "colab": {
          "base_uri": "https://localhost:8080/"
        },
        "outputId": "bab6f703-206b-41e6-9534-405ba9b579f4"
      },
      "execution_count": 6,
      "outputs": [
        {
          "output_type": "execute_result",
          "data": {
            "text/plain": [
              "{1: 'integer', 3.14: 'float', 'a': 'string', (1, 2, 3, 4): 'list'}"
            ]
          },
          "metadata": {},
          "execution_count": 6
        }
      ]
    },
    {
      "cell_type": "markdown",
      "source": [
        "Ні. Ключ в списку має бути незмінним типом. Оскільки список змінний тип, то його не можна передати в словник в якості ключа."
      ],
      "metadata": {
        "id": "zwa7UVN-gR3m"
      }
    },
    {
      "cell_type": "markdown",
      "source": [
        "21. Створіть словник, де значенням в одній з пар теж буде словник, який теж має вкладений словник. Виведіть на екран значення, що міститься в словнику, що знаходиться на найнижчому рівні ієрархії вкладеності (найбільш внутрішній)."
      ],
      "metadata": {
        "id": "WM_pMlJsgoNf"
      }
    },
    {
      "cell_type": "code",
      "source": [
        "dict_of_dicts={ 1:1,\n",
        "               'e':123,\n",
        "                'dict': my_dict}\n",
        "dict_of_dicts[\"dict\"]"
      ],
      "metadata": {
        "id": "60dlP7IHhAy4",
        "colab": {
          "base_uri": "https://localhost:8080/"
        },
        "outputId": "28186fd0-a179-4e59-f51d-217409e7d8fa"
      },
      "execution_count": 7,
      "outputs": [
        {
          "output_type": "execute_result",
          "data": {
            "text/plain": [
              "{1: 'integer', 3.14: 'float', 'a': 'string', (1, 2, 3, 4): 'list'}"
            ]
          },
          "metadata": {},
          "execution_count": 7
        }
      ]
    },
    {
      "cell_type": "markdown",
      "source": [
        "# Вітаю! Ви велика(ий) молодець, що впоралась(вся). Похваліть себе та побалуйте чимось приємним. Я Вами пишаюся."
      ],
      "metadata": {
        "id": "xOZP0hkx6cCr"
      }
    }
  ]
}
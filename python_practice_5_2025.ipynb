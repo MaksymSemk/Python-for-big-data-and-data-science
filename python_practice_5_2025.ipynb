{
 "nbformat": 4,
 "nbformat_minor": 0,
 "metadata": {
  "colab": {
   "provenance": []
  },
  "kernelspec": {
   "name": "python3",
   "display_name": "Python 3 (ipykernel)",
   "language": "python"
  },
  "language_info": {
   "name": "python"
  }
 },
 "cells": [
  {
   "cell_type": "markdown",
   "source": [
    "# I. OOP"
   ],
   "metadata": {
    "id": "5qV_sehzFCTp"
   }
  },
  {
   "cell_type": "markdown",
   "source": [
    "1. (6б). Створіть клас Building, додайте три атрибути, один з яких має значення за замовчуванням та два методи на свій розсуд."
   ],
   "metadata": {
    "id": "tx_U_hOALyfg"
   }
  },
  {
   "cell_type": "code",
   "source": [
    "class Building:\n",
    "  def __init__(self, numb_of_floors, numb_of_flats_on_floor, numb_of_entrances=1):\n",
    "    self.numb_of_floors=numb_of_floors\n",
    "    self.numb_of_flats_on_floor=numb_of_flats_on_floor\n",
    "    self.numb_of_entrances=numb_of_entrances\n",
    "\n",
    "  def number_of_all_flats(self):\n",
    "    return (self.numb_of_floors*self.numb_of_flats_on_floor*self.numb_of_entrances)\n",
    "\n",
    "  def number_of_flats_per_entrace(self):\n",
    "    return ( self.numb_of_floors*self.numb_of_flats_on_floor)"
   ],
   "metadata": {
    "id": "-Vf895KaL88N",
    "ExecuteTime": {
     "end_time": "2025-03-18T15:25:38.495028Z",
     "start_time": "2025-03-18T15:25:38.479448Z"
    }
   },
   "outputs": [],
   "execution_count": 1
  },
  {
   "cell_type": "markdown",
   "source": [
    "2. (2б). Створіть два обʼєкти цього класу, де один з обʼєктів створюється із дефолтним значенням атрибуту. На одному обʼєкті отримайте значення його атрибуту, а на іншому викличте один з його методів."
   ],
   "metadata": {
    "id": "X_UlOMB0L93w"
   }
  },
  {
   "cell_type": "code",
   "source": [
    "tower= Building(100,20)\n",
    "\n",
    "estate= Building(3, 30,4)\n",
    "\n",
    "print(estate.numb_of_entrances)\n",
    "print(tower.number_of_all_flats())"
   ],
   "metadata": {
    "id": "7gBu0ESOMCpG",
    "colab": {
     "base_uri": "https://localhost:8080/"
    },
    "outputId": "e039d417-1ed2-4239-a1c1-2eec62c4bde7",
    "ExecuteTime": {
     "end_time": "2025-03-18T15:25:38.561264Z",
     "start_time": "2025-03-18T15:25:38.549970Z"
    }
   },
   "outputs": [
    {
     "name": "stdout",
     "output_type": "stream",
     "text": [
      "4\n",
      "2000\n"
     ]
    }
   ],
   "execution_count": 2
  },
  {
   "cell_type": "markdown",
   "source": [
    "3. (5б). Створіть клас, де атрибути мають різні рівні доступу. Спробуйте отримати їхні значення та опишіть результати."
   ],
   "metadata": {
    "id": "HoqSCZt1MHn5"
   }
  },
  {
   "cell_type": "code",
   "source": [
    "class Wallet:\n",
    "  def __init__(self, passport, material_type, amount_of_cash):\n",
    "    self.passport=passport\n",
    "    self._material_type=material_type\n",
    "    self.__amount_of_cash=amount_of_cash\n",
    "\n",
    "w1=Wallet([\"Name\", \"Surname\", 12453325, \"24.08.1991\"],\"leather\", 300)\n",
    "\n",
    "print(w1.passport)\n",
    "print(w1._material_type)\n",
    "print(w1.__amount_of_cash)"
   ],
   "metadata": {
    "id": "r9b3vJxBMSPV",
    "colab": {
     "base_uri": "https://localhost:8080/",
     "height": 219
    },
    "outputId": "61842f18-6259-4141-b274-189a9535b7a0",
    "ExecuteTime": {
     "end_time": "2025-03-18T15:25:39.976542Z",
     "start_time": "2025-03-18T15:25:39.640793Z"
    }
   },
   "outputs": [
    {
     "name": "stdout",
     "output_type": "stream",
     "text": [
      "['Name', 'Surname', 12453325, '24.08.1991']\n",
      "leather\n"
     ]
    },
    {
     "ename": "AttributeError",
     "evalue": "'Wallet' object has no attribute '__amount_of_cash'",
     "output_type": "error",
     "traceback": [
      "\u001B[1;31m---------------------------------------------------------------------------\u001B[0m",
      "\u001B[1;31mAttributeError\u001B[0m                            Traceback (most recent call last)",
      "Cell \u001B[1;32mIn[3], line 11\u001B[0m\n\u001B[0;32m      9\u001B[0m \u001B[38;5;28mprint\u001B[39m(w1\u001B[38;5;241m.\u001B[39mpassport)\n\u001B[0;32m     10\u001B[0m \u001B[38;5;28mprint\u001B[39m(w1\u001B[38;5;241m.\u001B[39m_material_type)\n\u001B[1;32m---> 11\u001B[0m \u001B[38;5;28mprint\u001B[39m(\u001B[43mw1\u001B[49m\u001B[38;5;241;43m.\u001B[39;49m\u001B[43m__amount_of_cash\u001B[49m)\n",
      "\u001B[1;31mAttributeError\u001B[0m: 'Wallet' object has no attribute '__amount_of_cash'"
     ]
    }
   ],
   "execution_count": 3
  },
  {
   "cell_type": "markdown",
   "source": [
    "Клас Wallet має 3 атрибути з різними типами доступу(public, protected, private).\n",
    "\n",
    "Public атрибут можна без проблем отримати, як і очікувалось.\n",
    "\n",
    "Protected атрибут також можна отримати, хоча він тризначений тільки для класів, які будуть наслідуватися від класу Wallet.\n",
    "\n",
    "Private атрибут не можна безпосереньо отримати, компілятор не дає це зробити"
   ],
   "metadata": {
    "id": "E7JC6ZnnWKKG"
   }
  },
  {
   "cell_type": "markdown",
   "source": [
    "4. (7б). Як ви розумієте термін self? Для чого використовується метод __init __?"
   ],
   "metadata": {
    "id": "5op2m2vgMSkZ"
   }
  },
  {
   "cell_type": "markdown",
   "source": [
    "Self представляє екземпляр класу, з яким ми зараз працюємо\n",
    "\n",
    "Метод __init__ це метод для створення екземплярів класу, констуктор"
   ],
   "metadata": {
    "id": "DyiPqNRvMasx"
   }
  },
  {
   "cell_type": "markdown",
   "source": [
    "5. (9б). Створіть клас 3D-фігура без атрибутів, з методом get_volume для отримання об'єму фігури, що повертає 0 та __add __, який приймає self та other в якості аргументів, а повертає суму об'ємів 3d-фігур self та other."
   ],
   "metadata": {
    "id": "-6X8EGfjMd2y"
   }
  },
  {
   "cell_type": "code",
   "source": [
    "class ThreeDFigure:\n",
    "  def __init__(self):\n",
    "    pass\n",
    "  def get_volume(self):\n",
    "    return 0\n",
    "  def __add__(self, other):\n",
    "    return self.get_volume()+other.get_volume()\n"
   ],
   "metadata": {
    "id": "4rvO_wYUMaEr"
   },
   "execution_count": null,
   "outputs": []
  },
  {
   "cell_type": "markdown",
   "source": [
    "6. (11б). Створіть 2 дочірніх класи від 3d-фігура: Циліндр та Куб, які мають атрибути, необхідні для розрахунку об'єму. Визначте метод get_volume в кожному з них так, щоби вони розраховували об'єм у залежності від формули для кожного типу фігури. Створіть обʼєкт класу Циліндр та обʼєкт класу Куб. Виконайте операцію суми за допомогою оператора + між ними, аби знайти сумарний об'єм."
   ],
   "metadata": {
    "id": "SFcKnnv5Mo_z"
   }
  },
  {
   "cell_type": "code",
   "source": [
    "class Cylinder(ThreeDFigure):\n",
    "  def __init__(self, height, radius):\n",
    "    ThreeDFigure.__init__(self)\n",
    "    self.height=height\n",
    "    self.radius=radius\n",
    "\n",
    "  def get_volume(self):\n",
    "    return (self.radius*self.radius*3.14*self.height)\n",
    "\n",
    "class Cube(ThreeDFigure):\n",
    "  def __init__(self, width, height, depth):\n",
    "    ThreeDFigure.__init__(self)\n",
    "    self.width=width\n",
    "    self.height=height\n",
    "    self.depth=depth\n",
    "\n",
    "  def get_volume(self):\n",
    "    return (self.width*self.height*self.depth)\n",
    "\n",
    "\n",
    "cylinder=Cylinder(10,2)\n",
    "cube=Cube(20,20,20)\n",
    "\n",
    "print(cube.get_volume()+cylinder.get_volume())"
   ],
   "metadata": {
    "id": "H3GVNr69Muf3",
    "colab": {
     "base_uri": "https://localhost:8080/"
    },
    "outputId": "58fbc753-ae3a-412c-f236-626cae568a14"
   },
   "execution_count": null,
   "outputs": [
    {
     "output_type": "stream",
     "name": "stdout",
     "text": [
      "8125.6\n"
     ]
    }
   ]
  },
  {
   "cell_type": "markdown",
   "source": [
    "7. (3б). Продемонструйте різницю між isinstance та issubclass."
   ],
   "metadata": {
    "id": "HCvR206YMvLK"
   }
  },
  {
   "cell_type": "code",
   "source": [
    "print( isinstance(cylinder,Cylinder))\n",
    "\n",
    "print( issubclass(Cube,Cylinder))\n",
    "print(issubclass(Cube, ThreeDFigure))\n",
    "\n"
   ],
   "metadata": {
    "id": "L_V1bBvDM0GN",
    "colab": {
     "base_uri": "https://localhost:8080/"
    },
    "outputId": "4f0dd39e-065d-4c9e-c742-20f01f6e8bc5"
   },
   "execution_count": null,
   "outputs": [
    {
     "output_type": "stream",
     "name": "stdout",
     "text": [
      "True\n",
      "False\n",
      "True\n"
     ]
    }
   ]
  },
  {
   "cell_type": "markdown",
   "source": [
    "8. (13б). Створіть клас EWallet з приватними атрибутами balance та id. Реалізуйте методи поповнення та зняття коштів, забезпечивши належну інкапсуляцію. Підказка: використовуйте декоратори property та setter."
   ],
   "metadata": {
    "id": "jjsaBZ-iM0Qq"
   }
  },
  {
   "cell_type": "code",
   "source": [
    "class EWallet:\n",
    "  def __init__(self, balance, id):\n",
    "    if balance>0 : self.__balance=balance\n",
    "    else: self.__balance=0\n",
    "    self.__id=id\n",
    "\n",
    "  @property\n",
    "  def balance(self):\n",
    "    return self.__balance\n",
    "\n",
    "  @balance.setter\n",
    "  def balance(self, new_balance):\n",
    "    self.__balance=new_balance\n",
    "\n",
    "  def put_money_on_balance(self, putted_money):\n",
    "    if putted_money>0 :\n",
    "      self.balance=self.balance+putted_money\n",
    "\n",
    "  def cash_out_money_from_balance(self, cashed_money):\n",
    "    if(self.balance>=cashed_money):\n",
    "      self.balance=self.balance-cashed_money\n",
    "    else:\n",
    "      cashed_money=self.balance\n",
    "      self.balance=0\n",
    "    return cashed_money\n",
    "\n",
    "ew=EWallet(5,1)\n",
    "\n",
    "print(\"Current balance:\",ew.balance)\n",
    "\n",
    "ew.put_money_on_balance(40)\n",
    "\n",
    "print(\"Cached out from balance:\",ew.cash_out_money_from_balance(20))\n",
    "\n",
    "print(\"Current balance:\",ew.balance)\n",
    "\n",
    "print(\"Cached out from balance:\", ew.cash_out_money_from_balance(1000))\n",
    "\n",
    "\n",
    "\n"
   ],
   "metadata": {
    "id": "xCvZ7lh8M7YA",
    "colab": {
     "base_uri": "https://localhost:8080/"
    },
    "outputId": "d0031210-03cf-44a0-b72c-b43fb993598e"
   },
   "execution_count": null,
   "outputs": [
    {
     "output_type": "stream",
     "name": "stdout",
     "text": [
      "Current balance: 5\n",
      "Cached out from balance: 20\n",
      "Current balance: 25\n",
      "Cached out from balance: 25\n"
     ]
    }
   ]
  },
  {
   "cell_type": "markdown",
   "source": [
    "9. (11б). Створіть клас ShoppingCart, який містить список об'єктів типу Item. Реалізуйте методи для додавання айтемів, їх видалення та відображення списку айтемів."
   ],
   "metadata": {
    "id": "tIzL2SJTM8ft"
   }
  },
  {
   "cell_type": "code",
   "source": [
    "class Item:\n",
    "  def __init__(self, name, price):\n",
    "    self.name=name\n",
    "    self.price=price\n",
    "\n",
    "  def __str__(self):\n",
    "    return f\"{self.name}: {self.price}\"\n",
    "\n",
    "class ShoppingCart:\n",
    "  def __init__(self):\n",
    "    self.cart=[]\n",
    "\n",
    "  def __str__(self):\n",
    "    res=\"Shopping cart items: \"\n",
    "    for item in self.cart:\n",
    "      res+=str(item)+\" ;\"\n",
    "    return res\n",
    "\n",
    "  def add_item(self, item):\n",
    "    self.cart.append(item)\n",
    "\n",
    "  def remove_item(self, item):\n",
    "    if item in self.cart:\n",
    "      self.cart.remove(item)\n",
    "\n",
    "\n",
    "cart = ShoppingCart()\n",
    "item1 = Item(\"Ноутбук\", 1200.99)\n",
    "item2 = Item(\"Смартфон\", 699.50)\n",
    "item3 = Item(\"Навушники\", 150.00)\n",
    "\n",
    "cart.add_item(item1)\n",
    "cart.add_item(item2)\n",
    "cart.add_item(item3)\n",
    "\n",
    "print(cart)\n",
    "\n",
    "cart.remove_item( item2)\n",
    "print(cart)\n"
   ],
   "metadata": {
    "id": "HWxfJKLtNAUZ",
    "colab": {
     "base_uri": "https://localhost:8080/"
    },
    "outputId": "ffeed1fa-4b5c-47f1-e71d-caec8e63dedd"
   },
   "execution_count": 12,
   "outputs": [
    {
     "output_type": "stream",
     "name": "stdout",
     "text": [
      "Shopping cart items: Ноутбук: 1200.99 ;Смартфон: 699.5 ;Навушники: 150.0 ;\n",
      "Shopping cart items: Ноутбук: 1200.99 ;Навушники: 150.0 ;\n"
     ]
    }
   ]
  },
  {
   "cell_type": "markdown",
   "source": [
    "10. (13б). Створіть клас Vehicle з атрибутами brand (manufacturer) та production_age. Створіть ще один клас Engine з такими атрибутами, як type (ex. petrol) та size (volume, litres). Створіть клас Car, який успадковує обидва класи Vehicle та Engine. Продемонструйте використання множинної спадковості, створивши обʼєкт класу Car та отримавши mro для цього класу."
   ],
   "metadata": {
    "id": "lmV8pAwwNIqu"
   }
  },
  {
   "cell_type": "code",
   "source": [
    "class Vehicle:\n",
    "    def __init__(self, brand, production_age):\n",
    "        self.brand = brand\n",
    "        self.production_age = production_age\n",
    "\n",
    "\n",
    "class Engine:\n",
    "    def __init__(self, type, size):\n",
    "        self.type = type\n",
    "        self.size = size\n",
    "\n",
    "\n",
    "class Car(Vehicle, Engine):\n",
    "    def __init__(self, brand: str, production_age, type, size):\n",
    "        Vehicle.__init__(self, brand, production_age)\n",
    "        Engine.__init__(self, type, size)\n",
    "\n",
    "\n",
    "my_car = Car(\"Toyota\", 5, \"Petrol\", 1.8)\n",
    "\n",
    "Car.mro()"
   ],
   "metadata": {
    "id": "R49grKlWNPeN",
    "colab": {
     "base_uri": "https://localhost:8080/"
    },
    "outputId": "f7b95a00-de31-41e6-ccb8-042b93290d10"
   },
   "execution_count": 16,
   "outputs": [
    {
     "output_type": "execute_result",
     "data": {
      "text/plain": [
       "[__main__.Car, __main__.Vehicle, __main__.Engine, object]"
      ]
     },
     "metadata": {},
     "execution_count": 16
    }
   ]
  },
  {
   "cell_type": "markdown",
   "source": [
    "# II. Iterator"
   ],
   "metadata": {
    "id": "dIJyUiNBFG8G"
   }
  },
  {
   "cell_type": "markdown",
   "source": [
    "11. (4б). Визначте рядок(str) з 4ма різними за значенням символами. Створіть ітератор на основі цього рядка. Викличте 5 разів функцію next на ітераторі, 4ри перших з них огорніть у ф-цію print()."
   ],
   "metadata": {
    "id": "13vsm0NyKIzL"
   }
  },
  {
   "cell_type": "code",
   "source": [
    "four_symbols= \"a1~/\"\n",
    "strIter=iter(four_symbols)\n",
    "\n",
    "for _ in range(4):\n",
    "  print(next(strIter))\n",
    "\n",
    "next(strIter)"
   ],
   "metadata": {
    "id": "81ntabAkKuz-",
    "colab": {
     "base_uri": "https://localhost:8080/",
     "height": 256
    },
    "outputId": "19a8eea7-ee6f-4978-eb04-bf11b92b6a62"
   },
   "execution_count": 18,
   "outputs": [
    {
     "output_type": "stream",
     "name": "stdout",
     "text": [
      "a\n",
      "1\n",
      "~\n",
      "/\n"
     ]
    },
    {
     "output_type": "error",
     "ename": "StopIteration",
     "evalue": "",
     "traceback": [
      "\u001B[0;31m---------------------------------------------------------------------------\u001B[0m",
      "\u001B[0;31mStopIteration\u001B[0m                             Traceback (most recent call last)",
      "\u001B[0;32m<ipython-input-18-9f6bdc467bd5>\u001B[0m in \u001B[0;36m<cell line: 0>\u001B[0;34m()\u001B[0m\n\u001B[1;32m      5\u001B[0m   \u001B[0mprint\u001B[0m\u001B[0;34m(\u001B[0m\u001B[0mnext\u001B[0m\u001B[0;34m(\u001B[0m\u001B[0mstrIter\u001B[0m\u001B[0;34m)\u001B[0m\u001B[0;34m)\u001B[0m\u001B[0;34m\u001B[0m\u001B[0;34m\u001B[0m\u001B[0m\n\u001B[1;32m      6\u001B[0m \u001B[0;34m\u001B[0m\u001B[0m\n\u001B[0;32m----> 7\u001B[0;31m \u001B[0mnext\u001B[0m\u001B[0;34m(\u001B[0m\u001B[0mstrIter\u001B[0m\u001B[0;34m)\u001B[0m\u001B[0;34m\u001B[0m\u001B[0;34m\u001B[0m\u001B[0m\n\u001B[0m",
      "\u001B[0;31mStopIteration\u001B[0m: "
     ]
    }
   ]
  },
  {
   "cell_type": "markdown",
   "source": [
    "А що якщо викликати цю ж функцію на рядку?"
   ],
   "metadata": {
    "id": "aekWHGXOLRsO"
   }
  },
  {
   "cell_type": "code",
   "source": "next(four_symbols)",
   "metadata": {
    "id": "mxATGsErLV1i",
    "colab": {
     "base_uri": "https://localhost:8080/",
     "height": 146
    },
    "outputId": "71618003-c886-4671-ad09-90c0bf90287e"
   },
   "execution_count": 19,
   "outputs": [
    {
     "output_type": "error",
     "ename": "TypeError",
     "evalue": "'str' object is not an iterator",
     "traceback": [
      "\u001B[0;31m---------------------------------------------------------------------------\u001B[0m",
      "\u001B[0;31mTypeError\u001B[0m                                 Traceback (most recent call last)",
      "\u001B[0;32m<ipython-input-19-50005732e4cf>\u001B[0m in \u001B[0;36m<cell line: 0>\u001B[0;34m()\u001B[0m\n\u001B[0;32m----> 1\u001B[0;31m \u001B[0mnext\u001B[0m\u001B[0;34m(\u001B[0m\u001B[0mstring\u001B[0m\u001B[0;34m)\u001B[0m\u001B[0;34m\u001B[0m\u001B[0;34m\u001B[0m\u001B[0m\n\u001B[0m",
      "\u001B[0;31mTypeError\u001B[0m: 'str' object is not an iterator"
     ]
    }
   ]
  },
  {
   "cell_type": "markdown",
   "source": [
    " 12. (5б). Опишіть своїми словами в одному реченні, як ви розумієте різницю між ітерабельними обʼєктами та ітераторами (можна на прикладі)."
   ],
   "metadata": {
    "id": "XwtMEopwJ4pH"
   }
  },
  {
   "cell_type": "markdown",
   "source": [
    "Ітерабельний об'єкт- це об'єкт,по елементам якого можна пройтися в циклі та з якого можна отримати ітератор за допомогою iter().\n",
    "\n",
    "Ітератор- це об'єкт, який проходить послідовно по елементах ітерабельного об'єкта, зберігає свою нинішню позицію і повертає наступний елемент при виклику next()."
   ],
   "metadata": {
    "id": "-sHrODc3KFn8"
   }
  },
  {
   "cell_type": "markdown",
   "source": [
    "13. (11б). Створіть клас, що має визначений Iterator Protocol та при кожному виклику next повертає назву дня тижня, поки вони не вичерпаються. Зверніть увагу, що порядок має значення."
   ],
   "metadata": {
    "id": "E9qJWmNbK8Gl"
   }
  },
  {
   "cell_type": "code",
   "source": [
    "class WeekDayIterator:\n",
    "  def __init__(self):\n",
    "    self.__days = [\"Monday\", \"Tuesday\", \"Wednesday\", \"Thursday\", \"Friday\", \"Saturday\", \"Sunday\"]\n",
    "    self.__dayIndex=0;\n",
    "\n",
    "  def __iter__(self):\n",
    "    return self\n",
    "\n",
    "  def __next__(self):\n",
    "    if self.__dayIndex<len(self.__days):\n",
    "      self.__dayIndex+=1\n",
    "      return self.__days[self.__dayIndex-1]\n",
    "    else:\n",
    "      raise StopIteration\n",
    "\n",
    "tt=WeekDayIterator()\n",
    "ttiter=iter(tt)\n",
    "\n",
    "for _ in range(8):\n",
    "  print(next(ttiter))\n"
   ],
   "metadata": {
    "id": "cqx-g_RsLo6I",
    "colab": {
     "base_uri": "https://localhost:8080/",
     "height": 438
    },
    "outputId": "9833e953-d16f-4d21-8b96-7dd16468809d"
   },
   "execution_count": 25,
   "outputs": [
    {
     "output_type": "stream",
     "name": "stdout",
     "text": [
      "Monday\n",
      "Tuesday\n",
      "Wednesday\n",
      "Thursday\n",
      "Friday\n",
      "Saturday\n",
      "Sunday\n"
     ]
    },
    {
     "output_type": "error",
     "ename": "StopIteration",
     "evalue": "",
     "traceback": [
      "\u001B[0;31m---------------------------------------------------------------------------\u001B[0m",
      "\u001B[0;31mStopIteration\u001B[0m                             Traceback (most recent call last)",
      "\u001B[0;32m<ipython-input-25-033ec4870d65>\u001B[0m in \u001B[0;36m<cell line: 0>\u001B[0;34m()\u001B[0m\n\u001B[1;32m     18\u001B[0m \u001B[0;34m\u001B[0m\u001B[0m\n\u001B[1;32m     19\u001B[0m \u001B[0;32mfor\u001B[0m \u001B[0m_\u001B[0m \u001B[0;32min\u001B[0m \u001B[0mrange\u001B[0m\u001B[0;34m(\u001B[0m\u001B[0;36m8\u001B[0m\u001B[0;34m)\u001B[0m\u001B[0;34m:\u001B[0m\u001B[0;34m\u001B[0m\u001B[0;34m\u001B[0m\u001B[0m\n\u001B[0;32m---> 20\u001B[0;31m   \u001B[0mprint\u001B[0m\u001B[0;34m(\u001B[0m\u001B[0mnext\u001B[0m\u001B[0;34m(\u001B[0m\u001B[0mttiter\u001B[0m\u001B[0;34m)\u001B[0m\u001B[0;34m)\u001B[0m\u001B[0;34m\u001B[0m\u001B[0;34m\u001B[0m\u001B[0m\n\u001B[0m",
      "\u001B[0;32m<ipython-input-25-033ec4870d65>\u001B[0m in \u001B[0;36m__next__\u001B[0;34m(self)\u001B[0m\n\u001B[1;32m     12\u001B[0m       \u001B[0;32mreturn\u001B[0m \u001B[0mself\u001B[0m\u001B[0;34m.\u001B[0m\u001B[0m__days\u001B[0m\u001B[0;34m[\u001B[0m\u001B[0mself\u001B[0m\u001B[0;34m.\u001B[0m\u001B[0m__dayIndex\u001B[0m\u001B[0;34m-\u001B[0m\u001B[0;36m1\u001B[0m\u001B[0;34m]\u001B[0m\u001B[0;34m\u001B[0m\u001B[0;34m\u001B[0m\u001B[0m\n\u001B[1;32m     13\u001B[0m     \u001B[0;32melse\u001B[0m\u001B[0;34m:\u001B[0m\u001B[0;34m\u001B[0m\u001B[0;34m\u001B[0m\u001B[0m\n\u001B[0;32m---> 14\u001B[0;31m       \u001B[0;32mraise\u001B[0m \u001B[0mStopIteration\u001B[0m\u001B[0;34m\u001B[0m\u001B[0;34m\u001B[0m\u001B[0m\n\u001B[0m\u001B[1;32m     15\u001B[0m \u001B[0;34m\u001B[0m\u001B[0m\n\u001B[1;32m     16\u001B[0m \u001B[0mtt\u001B[0m\u001B[0;34m=\u001B[0m\u001B[0mWeekDayIterator\u001B[0m\u001B[0;34m(\u001B[0m\u001B[0;34m)\u001B[0m\u001B[0;34m\u001B[0m\u001B[0;34m\u001B[0m\u001B[0m\n",
      "\u001B[0;31mStopIteration\u001B[0m: "
     ]
    }
   ]
  },
  {
   "cell_type": "markdown",
   "source": [
    "# Вітаю! Ви велика(ий) молодець, що впоралась(вся). Похваліть себе та побалуйте чимось приємним. Я Вами пишаюся."
   ],
   "metadata": {
    "id": "Z3E3S_s1Fv7-"
   }
  }
 ]
}
